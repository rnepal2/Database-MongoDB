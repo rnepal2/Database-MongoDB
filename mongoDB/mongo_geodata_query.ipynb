{
 "cells": [
  {
   "cell_type": "code",
   "execution_count": 1,
   "metadata": {},
   "outputs": [],
   "source": [
    "import math\n",
    "import numpy as np\n",
    "import pandas as pd\n",
    "from pprint import pprint\n",
    "import pymongo"
   ]
  },
  {
   "cell_type": "code",
   "execution_count": 2,
   "metadata": {},
   "outputs": [],
   "source": [
    "# Mongo client\n",
    "client = pymongo.MongoClient(\"mongodb://localhost:27017\")"
   ]
  },
  {
   "cell_type": "code",
   "execution_count": 3,
   "metadata": {},
   "outputs": [],
   "source": [
    "# creating a \"terrorism\" database \n",
    "db = client[\"terrorism\"]"
   ]
  },
  {
   "cell_type": "code",
   "execution_count": 4,
   "metadata": {},
   "outputs": [
    {
     "data": {
      "text/plain": [
       "['MovieLens', 'admin', 'config', 'local', 'practice', 'student', 'terrorism']"
      ]
     },
     "execution_count": 4,
     "metadata": {},
     "output_type": "execute_result"
    }
   ],
   "source": [
    "client.list_database_names()"
   ]
  },
  {
   "cell_type": "code",
   "execution_count": 5,
   "metadata": {},
   "outputs": [],
   "source": [
    "# collection: in terrorism database\n",
    "collection = db[\"incidents\"]"
   ]
  },
  {
   "cell_type": "markdown",
   "metadata": {},
   "source": [
    "#### location object $\\rightarrow$ GeoObject \n",
    "location: {\n",
    "\n",
    "      type: \"Point\",\n",
    "      \n",
    "      coordinates: [longitude, latitude]\n",
    "}"
   ]
  },
  {
   "cell_type": "code",
   "execution_count": 6,
   "metadata": {},
   "outputs": [
    {
     "data": {
      "text/plain": [
       "['incidents']"
      ]
     },
     "execution_count": 6,
     "metadata": {},
     "output_type": "execute_result"
    }
   ],
   "source": [
    "# collections in the database\n",
    "db.list_collection_names()"
   ]
  },
  {
   "cell_type": "code",
   "execution_count": 7,
   "metadata": {},
   "outputs": [
    {
     "data": {
      "text/plain": [
       "'location_2dsphere'"
      ]
     },
     "execution_count": 7,
     "metadata": {},
     "output_type": "execute_result"
    }
   ],
   "source": [
    "# creating index: 2dsphere (for location data)\n",
    "db.incidents.create_index([(\"location\", pymongo.GEOSPHERE)])"
   ]
  },
  {
   "cell_type": "code",
   "execution_count": 8,
   "metadata": {},
   "outputs": [
    {
     "data": {
      "text/plain": [
       "'2dsphere'"
      ]
     },
     "execution_count": 8,
     "metadata": {},
     "output_type": "execute_result"
    }
   ],
   "source": [
    "pymongo.GEOSPHERE"
   ]
  },
  {
   "cell_type": "code",
   "execution_count": 49,
   "metadata": {},
   "outputs": [],
   "source": [
    "cursor = db.incidents.aggregate([\n",
    "           {\n",
    "             '$geoNear': {\n",
    "                           'near': {'type': \"Point\", 'coordinates': [ 73.99279 , 40.719296 ]},\n",
    "                           'spherical': True,\n",
    "                           'distanceField': \"dist.calculated\",\n",
    "                           'num': 5\n",
    "                         }\n",
    "           }, {\n",
    "\n",
    "             '$project': {'_id': 0, 'Date':  [\"$iyear\", \"$imonth\", \"$iday\"], 'location': 1, 'country_txt': 1, 'gname': 1}\n",
    "           }\n",
    "        ]);"
   ]
  },
  {
   "cell_type": "code",
   "execution_count": 50,
   "metadata": {},
   "outputs": [
    {
     "name": "stdout",
     "output_type": "stream",
     "text": [
      "{'country_txt': 'Kyrgyzstan', 'gname': 'Unknown', 'location': {'type': 'Point', 'coordinates': [72.981488, 40.933154]}, 'Date': [2017, 5, 15]}\n",
      "{'country_txt': 'China', 'gname': 'Turkestan Islamic Party', 'location': {'type': 'Point', 'coordinates': [75.94243, 39.51953]}, 'Date': [2014, 7, 28]}\n",
      "{'country_txt': 'China', 'gname': 'Uighur Separatists', 'location': {'type': 'Point', 'coordinates': [75.989761, 39.470107]}, 'Date': [2015, 3, 12]}\n",
      "{'country_txt': 'China', 'gname': 'Uighur Separatists', 'location': {'type': 'Point', 'coordinates': [75.990067, 39.469409]}, 'Date': [2014, 7, 30]}\n",
      "{'country_txt': 'China', 'gname': 'Uighur Separatists', 'location': {'type': 'Point', 'coordinates': [75.989641, 39.46616]}, 'Date': [2015, 6, 22]}\n"
     ]
    }
   ],
   "source": [
    "# printing the events\n",
    "for event in cursor:\n",
    "    print(event)"
   ]
  },
  {
   "cell_type": "code",
   "execution_count": 11,
   "metadata": {},
   "outputs": [],
   "source": [
    "project = {'_id': 0, 'location': 1, 'country_txt': 1, 'gname': 1, 'weaptype1_txt': 1}\n",
    "cursor = db.incidents.find(\n",
    "                        {'country_txt': 'Nepal'}, \n",
    "                          project\n",
    "                      ).limit(5)"
   ]
  },
  {
   "cell_type": "code",
   "execution_count": 12,
   "metadata": {},
   "outputs": [
    {
     "name": "stdout",
     "output_type": "stream",
     "text": [
      "{'country_txt': 'Nepal', 'gname': 'Unknown', 'weaptype1_txt': 'Explosives', 'location': {'type': 'Point', 'coordinates': [86.267047, 26.767787]}}\n",
      "{'country_txt': 'Nepal', 'gname': 'Unknown', 'weaptype1_txt': 'Incendiary', 'location': {'type': 'Point', 'coordinates': [85.317684, 26.95183]}}\n",
      "{'country_txt': 'Nepal', 'gname': 'Unknown', 'weaptype1_txt': 'Explosives', 'location': {'type': 'Point', 'coordinates': [82.09, 28.2]}}\n",
      "{'country_txt': 'Nepal', 'gname': 'Unified Communist Party of Nepal (Maoist)', 'weaptype1_txt': 'Unknown', 'location': {'type': 'Point', 'coordinates': [85.329498, 27.708754]}}\n",
      "{'country_txt': 'Nepal', 'gname': 'Unknown', 'weaptype1_txt': 'Firearms', 'location': {'type': 'Point', 'coordinates': [83.003611, 27.655162]}}\n"
     ]
    }
   ],
   "source": [
    "for k in cursor:\n",
    "    print(k)"
   ]
  },
  {
   "cell_type": "code",
   "execution_count": 21,
   "metadata": {},
   "outputs": [
    {
     "data": {
      "text/plain": [
       "'gname_text'"
      ]
     },
     "execution_count": 21,
     "metadata": {},
     "output_type": "execute_result"
    }
   ],
   "source": [
    "# text search\n",
    "# creating tet index for gname\n",
    "db.incidents.create_index([('gname', pymongo.TEXT)])"
   ]
  },
  {
   "cell_type": "code",
   "execution_count": 61,
   "metadata": {},
   "outputs": [],
   "source": [
    "# carried buy 'Islamic' groups\n",
    "cursor = db.incidents.aggregate([\n",
    "    {'$match': {'$text': {'$search': \"Islamic\"}}},\n",
    "    {'$project': {'_id': 0, 'gname': 1, 'country_txt': 1, 'weaptype1_txt': 1}}\n",
    "])"
   ]
  },
  {
   "cell_type": "code",
   "execution_count": 62,
   "metadata": {},
   "outputs": [
    {
     "name": "stdout",
     "output_type": "stream",
     "text": [
      "{'country_txt': 'Indonesia',\n",
      " 'gname': 'Aceh Singkil Islamic Care Youth Students Association (PPI)',\n",
      " 'weaptype1_txt': 'Incendiary'}\n",
      "{'country_txt': 'Mali',\n",
      " 'gname': 'Jamaat Nusrat al-Islam wal Muslimin (JNIM)',\n",
      " 'weaptype1_txt': 'Firearms'}\n",
      "{'country_txt': 'Mali',\n",
      " 'gname': 'Jamaat Nusrat al-Islam wal Muslimin (JNIM)',\n",
      " 'weaptype1_txt': 'Firearms'}\n",
      "{'country_txt': 'Mali',\n",
      " 'gname': 'Jamaat Nusrat al-Islam wal Muslimin (JNIM)',\n",
      " 'weaptype1_txt': 'Explosives'}\n",
      "{'country_txt': 'Mali',\n",
      " 'gname': 'Jamaat Nusrat al-Islam wal Muslimin (JNIM)',\n",
      " 'weaptype1_txt': 'Firearms'}\n",
      "total incidents:  7492\n"
     ]
    }
   ],
   "source": [
    "i = 0\n",
    "for c in cursor:\n",
    "    if i < 5:\n",
    "        pprint(c)\n",
    "    i += 1\n",
    "print('total incidents: ', i)"
   ]
  },
  {
   "cell_type": "code",
   "execution_count": 65,
   "metadata": {},
   "outputs": [],
   "source": [
    "# Aleppo: coordinates ~ [36, 37]\n",
    "# all the incidents in Syria near Allepo\n",
    "cursor = db.incidents.aggregate([\n",
    "    {\n",
    "        '$geoNear': {\n",
    "            'near': {'type': \"Point\", 'coordinates': [ 36 , 37]},\n",
    "            'spherical': True,\n",
    "            'query': {'country_txt': 'Syria'},\n",
    "            'distanceField': \"dist.calculated\"\n",
    "        }\n",
    "        \n",
    "    }, {\n",
    "        '$project': {'_id': 0, 'Date':  [\"$iyear\", \"$imonth\", \"$iday\"], 'gname': 1, 'country_txt': 1, 'location': 1}\n",
    "    }       \n",
    "])"
   ]
  },
  {
   "cell_type": "code",
   "execution_count": 66,
   "metadata": {},
   "outputs": [
    {
     "name": "stdout",
     "output_type": "stream",
     "text": [
      "{'Date': [2016, 9, 21],\n",
      " 'country_txt': 'Syria',\n",
      " 'gname': \"People's Protection Units (YPG)\",\n",
      " 'location': {'coordinates': [36.795143, 36.541298], 'type': 'Point'}}\n",
      "{'Date': [2016, 9, 21],\n",
      " 'country_txt': 'Syria',\n",
      " 'gname': \"People's Protection Units (YPG)\",\n",
      " 'location': {'coordinates': [36.852272, 36.553005], 'type': 'Point'}}\n",
      "{'Date': [2016, 8, 14],\n",
      " 'country_txt': 'Syria',\n",
      " 'gname': 'Islamic State of Iraq and the Levant (ISIL)',\n",
      " 'location': {'coordinates': [36.660312, 36.313854], 'type': 'Point'}}\n",
      "{'Date': [2015, 1, 10],\n",
      " 'country_txt': 'Syria',\n",
      " 'gname': 'Islamic State of Iraq and the Levant (ISIL)',\n",
      " 'location': {'coordinates': [36.961853, 36.591221], 'type': 'Point'}}\n",
      "{'Date': [2014, 12, 28],\n",
      " 'country_txt': 'Syria',\n",
      " 'gname': 'Unknown',\n",
      " 'location': {'coordinates': [36.961853, 36.591221], 'type': 'Point'}}\n",
      "total incidents:  100\n"
     ]
    }
   ],
   "source": [
    "i = 0\n",
    "for c in cursor:\n",
    "    if i < 5:\n",
    "        pprint(c)\n",
    "    i += 1\n",
    "print('total incidents: ', i)"
   ]
  },
  {
   "cell_type": "code",
   "execution_count": 67,
   "metadata": {},
   "outputs": [
    {
     "data": {
      "text/plain": [
       "{'_id': ObjectId('5ce62626feec0f10081b5c3d'),\n",
       " 'iyear': 2014,\n",
       " 'imonth': 1,\n",
       " 'iday': 1,\n",
       " 'country_txt': 'Colombia',\n",
       " 'region_txt': 'South America',\n",
       " 'provstate': 'Norte de Santander',\n",
       " 'city': 'Convencion',\n",
       " 'location_desc': 'Incident occurred in Campo Alegre area',\n",
       " 'summary': '01/01/2014: Assailants detonated an explosive device at an oil holding pool along the Cano Limon - Covenas pipeline in Convencion municipality, North Santander department, Colombia. As a result of the blast, the pool was damaged and local residents evacuated the area. This was one of four holding pools attacked in the area on this day. No group claimed responsibility for the incident; however, sources attributed the attack to National Liberation Army of Colombia (ELN).',\n",
       " 'crit1': 1,\n",
       " 'crit2': 1,\n",
       " 'crit3': 1,\n",
       " 'multiple': 1.0,\n",
       " 'success': 1,\n",
       " 'suicide': 0,\n",
       " 'attacktype1_txt': 'Bombing/Explosion',\n",
       " 'targtype1_txt': 'Utilities',\n",
       " 'targsubtype1_txt': 'Oil',\n",
       " 'corp1': 'Cano Limon-Covenas Oil Pipeline',\n",
       " 'target1': 'Crude Oil Holding Pools',\n",
       " 'natlty1_txt': 'Colombia',\n",
       " 'gname': 'National Liberation Army of Colombia (ELN)',\n",
       " 'motive': 'The specific motive is unknown; however, sources noted that the National Liberation Army of Colombia (ELN) had declared war against multinational oil companies in Colombia in November.',\n",
       " 'guncertain1': 0,\n",
       " 'individual': 0,\n",
       " 'nperps': -99,\n",
       " 'nperpcap': 0,\n",
       " 'claimed': 0,\n",
       " 'weaptype1_txt': 'Explosives',\n",
       " 'weapsubtype1_txt': 'Unknown Explosive Type',\n",
       " 'nkill': 0.0,\n",
       " 'nkillus': 0.0,\n",
       " 'nkillter': 0.0,\n",
       " 'nwound': 0.0,\n",
       " 'nwoundus': 0.0,\n",
       " 'nwoundte': 0.0,\n",
       " 'property': 1,\n",
       " 'propextent_txt': 'Unknown',\n",
       " 'propvalue': -99.0,\n",
       " 'propcomment': 'A crude holding pool was damaged in this attack.',\n",
       " 'ishostkid': 0,\n",
       " 'location': {'type': 'Point', 'coordinates': [-73.194094, 8.86879]}}"
      ]
     },
     "execution_count": 67,
     "metadata": {},
     "output_type": "execute_result"
    }
   ],
   "source": [
    "# All the fields in the collections\n",
    "db.incidents.find_one()"
   ]
  }
 ],
 "metadata": {
  "kernelspec": {
   "display_name": "Python 3",
   "language": "python",
   "name": "python3"
  },
  "language_info": {
   "codemirror_mode": {
    "name": "ipython",
    "version": 3
   },
   "file_extension": ".py",
   "mimetype": "text/x-python",
   "name": "python",
   "nbconvert_exporter": "python",
   "pygments_lexer": "ipython3",
   "version": "3.6.7"
  }
 },
 "nbformat": 4,
 "nbformat_minor": 2
}
