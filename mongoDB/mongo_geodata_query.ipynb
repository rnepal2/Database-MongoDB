{
 "cells": [
  {
   "cell_type": "code",
   "execution_count": 199,
   "metadata": {},
   "outputs": [],
   "source": [
    "import math\n",
    "import numpy as np\n",
    "import pandas as pd\n",
    "from pprint import pprint\n",
    "import pymongo\n",
    "\n",
    "import matplotlib.pyplot as plt\n",
    "%matplotlib inline\n",
    "import seaborn as sns"
   ]
  },
  {
   "cell_type": "code",
   "execution_count": 2,
   "metadata": {},
   "outputs": [],
   "source": [
    "# Mongo client\n",
    "client = pymongo.MongoClient(\"mongodb://localhost:27017\")"
   ]
  },
  {
   "cell_type": "code",
   "execution_count": 3,
   "metadata": {},
   "outputs": [],
   "source": [
    "# creating a \"terrorism\" database \n",
    "db = client[\"terrorism\"]"
   ]
  },
  {
   "cell_type": "code",
   "execution_count": 4,
   "metadata": {},
   "outputs": [
    {
     "data": {
      "text/plain": [
       "['MovieLens', 'admin', 'config', 'local', 'practice', 'student', 'terrorism']"
      ]
     },
     "execution_count": 4,
     "metadata": {},
     "output_type": "execute_result"
    }
   ],
   "source": [
    "client.list_database_names()"
   ]
  },
  {
   "cell_type": "code",
   "execution_count": 5,
   "metadata": {},
   "outputs": [],
   "source": [
    "# collection: in terrorism database\n",
    "collection = db[\"incidents\"]"
   ]
  },
  {
   "cell_type": "markdown",
   "metadata": {},
   "source": [
    "#### location object $\\rightarrow$ GeoObject \n",
    "location: {\n",
    "\n",
    "      type: \"Point\",\n",
    "      \n",
    "      coordinates: [longitude, latitude]\n",
    "}"
   ]
  },
  {
   "cell_type": "code",
   "execution_count": 6,
   "metadata": {},
   "outputs": [
    {
     "data": {
      "text/plain": [
       "['incidents']"
      ]
     },
     "execution_count": 6,
     "metadata": {},
     "output_type": "execute_result"
    }
   ],
   "source": [
    "# collections in the database\n",
    "db.list_collection_names()"
   ]
  },
  {
   "cell_type": "code",
   "execution_count": 7,
   "metadata": {},
   "outputs": [
    {
     "data": {
      "text/plain": [
       "'location_2dsphere'"
      ]
     },
     "execution_count": 7,
     "metadata": {},
     "output_type": "execute_result"
    }
   ],
   "source": [
    "# creating index: 2dsphere (for location data)\n",
    "db.incidents.create_index([(\"location\", pymongo.GEOSPHERE)])"
   ]
  },
  {
   "cell_type": "code",
   "execution_count": 8,
   "metadata": {},
   "outputs": [
    {
     "data": {
      "text/plain": [
       "'2dsphere'"
      ]
     },
     "execution_count": 8,
     "metadata": {},
     "output_type": "execute_result"
    }
   ],
   "source": [
    "pymongo.GEOSPHERE"
   ]
  },
  {
   "cell_type": "code",
   "execution_count": 49,
   "metadata": {},
   "outputs": [],
   "source": [
    "cursor = db.incidents.aggregate([\n",
    "           {\n",
    "             '$geoNear': {\n",
    "                           'near': {'type': \"Point\", 'coordinates': [ 73.99279 , 40.719296 ]},\n",
    "                           'spherical': True,\n",
    "                           'distanceField': \"dist.calculated\",\n",
    "                           'num': 5\n",
    "                         }\n",
    "           }, {\n",
    "\n",
    "             '$project': {'_id': 0, 'Date':  [\"$iyear\", \"$imonth\", \"$iday\"], 'location': 1, 'country_txt': 1, 'gname': 1}\n",
    "           }\n",
    "        ]);"
   ]
  },
  {
   "cell_type": "code",
   "execution_count": 50,
   "metadata": {},
   "outputs": [
    {
     "name": "stdout",
     "output_type": "stream",
     "text": [
      "{'country_txt': 'Kyrgyzstan', 'gname': 'Unknown', 'location': {'type': 'Point', 'coordinates': [72.981488, 40.933154]}, 'Date': [2017, 5, 15]}\n",
      "{'country_txt': 'China', 'gname': 'Turkestan Islamic Party', 'location': {'type': 'Point', 'coordinates': [75.94243, 39.51953]}, 'Date': [2014, 7, 28]}\n",
      "{'country_txt': 'China', 'gname': 'Uighur Separatists', 'location': {'type': 'Point', 'coordinates': [75.989761, 39.470107]}, 'Date': [2015, 3, 12]}\n",
      "{'country_txt': 'China', 'gname': 'Uighur Separatists', 'location': {'type': 'Point', 'coordinates': [75.990067, 39.469409]}, 'Date': [2014, 7, 30]}\n",
      "{'country_txt': 'China', 'gname': 'Uighur Separatists', 'location': {'type': 'Point', 'coordinates': [75.989641, 39.46616]}, 'Date': [2015, 6, 22]}\n"
     ]
    }
   ],
   "source": [
    "# printing the events\n",
    "for event in cursor:\n",
    "    print(event)"
   ]
  },
  {
   "cell_type": "code",
   "execution_count": 11,
   "metadata": {},
   "outputs": [],
   "source": [
    "project = {'_id': 0, 'location': 1, 'country_txt': 1, 'gname': 1, 'weaptype1_txt': 1}\n",
    "cursor = db.incidents.find(\n",
    "                        {'country_txt': 'Nepal'}, \n",
    "                          project\n",
    "                      ).limit(5)"
   ]
  },
  {
   "cell_type": "code",
   "execution_count": 12,
   "metadata": {},
   "outputs": [
    {
     "name": "stdout",
     "output_type": "stream",
     "text": [
      "{'country_txt': 'Nepal', 'gname': 'Unknown', 'weaptype1_txt': 'Explosives', 'location': {'type': 'Point', 'coordinates': [86.267047, 26.767787]}}\n",
      "{'country_txt': 'Nepal', 'gname': 'Unknown', 'weaptype1_txt': 'Incendiary', 'location': {'type': 'Point', 'coordinates': [85.317684, 26.95183]}}\n",
      "{'country_txt': 'Nepal', 'gname': 'Unknown', 'weaptype1_txt': 'Explosives', 'location': {'type': 'Point', 'coordinates': [82.09, 28.2]}}\n",
      "{'country_txt': 'Nepal', 'gname': 'Unified Communist Party of Nepal (Maoist)', 'weaptype1_txt': 'Unknown', 'location': {'type': 'Point', 'coordinates': [85.329498, 27.708754]}}\n",
      "{'country_txt': 'Nepal', 'gname': 'Unknown', 'weaptype1_txt': 'Firearms', 'location': {'type': 'Point', 'coordinates': [83.003611, 27.655162]}}\n"
     ]
    }
   ],
   "source": [
    "for k in cursor:\n",
    "    print(k)"
   ]
  },
  {
   "cell_type": "code",
   "execution_count": 21,
   "metadata": {},
   "outputs": [
    {
     "data": {
      "text/plain": [
       "'gname_text'"
      ]
     },
     "execution_count": 21,
     "metadata": {},
     "output_type": "execute_result"
    }
   ],
   "source": [
    "# text search\n",
    "# creating tet index for gname\n",
    "db.incidents.create_index([('gname', pymongo.TEXT)])"
   ]
  },
  {
   "cell_type": "code",
   "execution_count": 86,
   "metadata": {},
   "outputs": [],
   "source": [
    "# carried buy 'Islamic' groups\n",
    "cursor = db.incidents.aggregate([\n",
    "    {'$match': {'$text': {'$search': \"Islamic\"}}},\n",
    "    {'$project': {'_id': 0, 'gname': 1, 'country_txt': 1, 'weaptype1_txt': 1}}\n",
    "])"
   ]
  },
  {
   "cell_type": "code",
   "execution_count": 87,
   "metadata": {},
   "outputs": [
    {
     "name": "stdout",
     "output_type": "stream",
     "text": [
      "{'country_txt': 'Indonesia',\n",
      " 'gname': 'Aceh Singkil Islamic Care Youth Students Association (PPI)',\n",
      " 'weaptype1_txt': 'Incendiary'}\n",
      "{'country_txt': 'Mali',\n",
      " 'gname': 'Jamaat Nusrat al-Islam wal Muslimin (JNIM)',\n",
      " 'weaptype1_txt': 'Firearms'}\n",
      "{'country_txt': 'Mali',\n",
      " 'gname': 'Jamaat Nusrat al-Islam wal Muslimin (JNIM)',\n",
      " 'weaptype1_txt': 'Firearms'}\n",
      "{'country_txt': 'Mali',\n",
      " 'gname': 'Jamaat Nusrat al-Islam wal Muslimin (JNIM)',\n",
      " 'weaptype1_txt': 'Explosives'}\n",
      "{'country_txt': 'Mali',\n",
      " 'gname': 'Jamaat Nusrat al-Islam wal Muslimin (JNIM)',\n",
      " 'weaptype1_txt': 'Firearms'}\n",
      "\n",
      "========================\n",
      "total incidents:  7492\n"
     ]
    }
   ],
   "source": [
    "i = 0\n",
    "for c in cursor:\n",
    "    if i < 5:\n",
    "        pprint(c)\n",
    "    i += 1\n",
    "print(\"\\n========================\")\n",
    "print('total incidents: ', i)"
   ]
  },
  {
   "cell_type": "code",
   "execution_count": 84,
   "metadata": {},
   "outputs": [],
   "source": [
    "# Aleppo: coordinates ~ [36, 37]\n",
    "# all the incidents in Syria near Allepo\n",
    "cursor = db.incidents.aggregate([\n",
    "    {\n",
    "        '$geoNear': {\n",
    "            'near': {'type': \"Point\", 'coordinates': [ 36 , 37]},\n",
    "            'spherical': True,\n",
    "            'query': {'country_txt': 'Syria'},\n",
    "            'distanceField': \"dist.calculated\"\n",
    "        }\n",
    "        \n",
    "    }, {\n",
    "        '$project': {'_id': 0, 'Date': {'$concat': [{'$toString': \"$iyear\"}, \"-\", {'$toString': \"$imonth\"}, \"-\", \n",
    "                    {'$toString': \"$iday\"}]}, 'gname': 1, 'country_txt': 1, 'location': 1} # concat (string YMD)\n",
    "    }       \n",
    "])"
   ]
  },
  {
   "cell_type": "code",
   "execution_count": 85,
   "metadata": {},
   "outputs": [
    {
     "name": "stdout",
     "output_type": "stream",
     "text": [
      "{'Date': '2016-9-21',\n",
      " 'country_txt': 'Syria',\n",
      " 'gname': \"People's Protection Units (YPG)\",\n",
      " 'location': {'coordinates': [36.795143, 36.541298], 'type': 'Point'}}\n",
      "{'Date': '2016-9-21',\n",
      " 'country_txt': 'Syria',\n",
      " 'gname': \"People's Protection Units (YPG)\",\n",
      " 'location': {'coordinates': [36.852272, 36.553005], 'type': 'Point'}}\n",
      "{'Date': '2016-8-14',\n",
      " 'country_txt': 'Syria',\n",
      " 'gname': 'Islamic State of Iraq and the Levant (ISIL)',\n",
      " 'location': {'coordinates': [36.660312, 36.313854], 'type': 'Point'}}\n",
      "{'Date': '2015-1-10',\n",
      " 'country_txt': 'Syria',\n",
      " 'gname': 'Islamic State of Iraq and the Levant (ISIL)',\n",
      " 'location': {'coordinates': [36.961853, 36.591221], 'type': 'Point'}}\n",
      "{'Date': '2014-12-28',\n",
      " 'country_txt': 'Syria',\n",
      " 'gname': 'Unknown',\n",
      " 'location': {'coordinates': [36.961853, 36.591221], 'type': 'Point'}}\n",
      "\n",
      "==========================\n",
      "total incidents:  100\n"
     ]
    }
   ],
   "source": [
    "i = 0\n",
    "for c in cursor:\n",
    "    if i < 5:\n",
    "        pprint(c)\n",
    "    i += 1\n",
    "print('\\n==========================')\n",
    "print('total incidents: ', i)"
   ]
  },
  {
   "cell_type": "code",
   "execution_count": 88,
   "metadata": {},
   "outputs": [
    {
     "data": {
      "text/plain": [
       "{'_id': ObjectId('5ce62626feec0f10081b5c3d'),\n",
       " 'iyear': 2014,\n",
       " 'imonth': 1,\n",
       " 'iday': 1,\n",
       " 'country_txt': 'Colombia',\n",
       " 'region_txt': 'South America',\n",
       " 'provstate': 'Norte de Santander',\n",
       " 'city': 'Convencion',\n",
       " 'location_desc': 'Incident occurred in Campo Alegre area',\n",
       " 'summary': '01/01/2014: Assailants detonated an explosive device at an oil holding pool along the Cano Limon - Covenas pipeline in Convencion municipality, North Santander department, Colombia. As a result of the blast, the pool was damaged and local residents evacuated the area. This was one of four holding pools attacked in the area on this day. No group claimed responsibility for the incident; however, sources attributed the attack to National Liberation Army of Colombia (ELN).',\n",
       " 'crit1': 1,\n",
       " 'crit2': 1,\n",
       " 'crit3': 1,\n",
       " 'multiple': 1.0,\n",
       " 'success': 1,\n",
       " 'suicide': 0,\n",
       " 'attacktype1_txt': 'Bombing/Explosion',\n",
       " 'targtype1_txt': 'Utilities',\n",
       " 'targsubtype1_txt': 'Oil',\n",
       " 'corp1': 'Cano Limon-Covenas Oil Pipeline',\n",
       " 'target1': 'Crude Oil Holding Pools',\n",
       " 'natlty1_txt': 'Colombia',\n",
       " 'gname': 'National Liberation Army of Colombia (ELN)',\n",
       " 'motive': 'The specific motive is unknown; however, sources noted that the National Liberation Army of Colombia (ELN) had declared war against multinational oil companies in Colombia in November.',\n",
       " 'guncertain1': 0,\n",
       " 'individual': 0,\n",
       " 'nperps': -99,\n",
       " 'nperpcap': 0,\n",
       " 'claimed': 0,\n",
       " 'weaptype1_txt': 'Explosives',\n",
       " 'weapsubtype1_txt': 'Unknown Explosive Type',\n",
       " 'nkill': 0.0,\n",
       " 'nkillus': 0.0,\n",
       " 'nkillter': 0.0,\n",
       " 'nwound': 0.0,\n",
       " 'nwoundus': 0.0,\n",
       " 'nwoundte': 0.0,\n",
       " 'property': 1,\n",
       " 'propextent_txt': 'Unknown',\n",
       " 'propvalue': -99.0,\n",
       " 'propcomment': 'A crude holding pool was damaged in this attack.',\n",
       " 'ishostkid': 0,\n",
       " 'location': {'type': 'Point', 'coordinates': [-73.194094, 8.86879]}}"
      ]
     },
     "execution_count": 88,
     "metadata": {},
     "output_type": "execute_result"
    }
   ],
   "source": [
    "# All the fields in the collections\n",
    "db.incidents.find_one()"
   ]
  },
  {
   "cell_type": "markdown",
   "metadata": {},
   "source": [
    "#### Inside United States"
   ]
  },
  {
   "cell_type": "code",
   "execution_count": 265,
   "metadata": {},
   "outputs": [],
   "source": [
    "query = {'country_txt': 'United States'}\n",
    "project = {'_id': 0, 'city': 1, 'provstate': 1 , 'country_txt': 1, 'gname': 1, 'location.coordinates': 1, 'weaptype1_txt': 1,\n",
    "           'nkill': 1}\n",
    "cursor = db.incidents.find(query, project)"
   ]
  },
  {
   "cell_type": "code",
   "execution_count": 266,
   "metadata": {},
   "outputs": [
    {
     "name": "stdout",
     "output_type": "stream",
     "text": [
      "Hattiesburg ,  Unknown ,  Firearms ,  0.0\n",
      "Orland Park ,  Unknown ,  Firearms ,  0.0\n",
      "Bunkerville ,  Anti-Government extremists ,  Firearms ,  0.0\n",
      "Overland Park ,  White extremists ,  Firearms ,  2.0\n",
      "Overland Park ,  White extremists ,  Firearms ,  1.0\n",
      "\n",
      "============\n",
      "196\n"
     ]
    }
   ],
   "source": [
    "group_name = {}\n",
    "i = 0\n",
    "for e in cursor:\n",
    "    if i < 5:\n",
    "        print(e['city'], ', ', e['gname'], ', ', e['weaptype1_txt'], ', ', e['nkill'])\n",
    "    i += 1\n",
    "    \n",
    "    # saving unique group name\n",
    "    if e['gname'] not in group_name.keys():\n",
    "        group_name[e['gname']] = 1\n",
    "    else:\n",
    "        group_name[e['gname']] += 1\n",
    "print('\\n============')\n",
    "print(i)"
   ]
  },
  {
   "cell_type": "code",
   "execution_count": 267,
   "metadata": {},
   "outputs": [],
   "source": [
    "# plotting\n",
    "df = pd.DataFrame.from_dict({'group_name': list(group_name.keys()), 'num_incidents': list(group_name.values())})"
   ]
  },
  {
   "cell_type": "code",
   "execution_count": 268,
   "metadata": {},
   "outputs": [
    {
     "data": {
      "image/png": "[encoded data removed]",
      "text/plain": [
       "<Figure size 720x360 with 1 Axes>"
      ]
     },
     "metadata": {
      "needs_background": "light"
     },
     "output_type": "display_data"
    }
   ],
   "source": [
    "plt.figure(figsize=(10, 5))\n",
    "g = sns.barplot(x='group_name', y='num_incidents', data=df);\n",
    "g.set_xlabel('Group');\n",
    "g.set_xticklabels(rotation=90, labels=list(group_name.keys()));"
   ]
  },
  {
   "cell_type": "code",
   "execution_count": 271,
   "metadata": {},
   "outputs": [],
   "source": [
    "# total numbers of kills by groups\n",
    "cursor = db.incidents.aggregate([\n",
    "    {'$match': {'country_txt': 'United States'}},\n",
    "    {'$group': {'_id': '$gname', 'total_kill': {'$sum': \"$nkill\"}}},\n",
    "    {'$project': {'_id': 0, 'gname': '$_id', 'total_kill': 1}},\n",
    "    {'$sort': {'total_kill': 1}}\n",
    "])"
   ]
  },
  {
   "cell_type": "code",
   "execution_count": 273,
   "metadata": {},
   "outputs": [],
   "source": [
    "i = 0\n",
    "groups = []\n",
    "kills = []\n",
    "for c in cursor:\n",
    "    groups.append(c['gname'])\n",
    "    kills.append(c['total_kill'])"
   ]
  },
  {
   "cell_type": "code",
   "execution_count": 276,
   "metadata": {},
   "outputs": [
    {
     "data": {
      "text/html": [
       "<div>\n",
       "<style scoped>\n",
       "    .dataframe tbody tr th:only-of-type {\n",
       "        vertical-align: middle;\n",
       "    }\n",
       "\n",
       "    .dataframe tbody tr th {\n",
       "        vertical-align: top;\n",
       "    }\n",
       "\n",
       "    .dataframe thead th {\n",
       "        text-align: right;\n",
       "    }\n",
       "</style>\n",
       "<table border=\"1\" class=\"dataframe\">\n",
       "  <thead>\n",
       "    <tr style=\"text-align: right;\">\n",
       "      <th></th>\n",
       "      <th>gname</th>\n",
       "      <th>total_kill</th>\n",
       "    </tr>\n",
       "  </thead>\n",
       "  <tbody>\n",
       "    <tr>\n",
       "      <th>0</th>\n",
       "      <td>White Rabbit Three Percent Illinois Patriot Fr...</td>\n",
       "      <td>0.0</td>\n",
       "    </tr>\n",
       "    <tr>\n",
       "      <th>1</th>\n",
       "      <td>Environmentalists</td>\n",
       "      <td>0.0</td>\n",
       "    </tr>\n",
       "    <tr>\n",
       "      <th>2</th>\n",
       "      <td>Ku Klux Klan</td>\n",
       "      <td>0.0</td>\n",
       "    </tr>\n",
       "    <tr>\n",
       "      <th>3</th>\n",
       "      <td>Anti-LGBT extremists</td>\n",
       "      <td>0.0</td>\n",
       "    </tr>\n",
       "    <tr>\n",
       "      <th>4</th>\n",
       "      <td>Anti-Trump extremists</td>\n",
       "      <td>0.0</td>\n",
       "    </tr>\n",
       "    <tr>\n",
       "      <th>5</th>\n",
       "      <td>Anti-Semitic extremists</td>\n",
       "      <td>0.0</td>\n",
       "    </tr>\n",
       "    <tr>\n",
       "      <th>6</th>\n",
       "      <td>Citizens for Constitutional Freedom</td>\n",
       "      <td>0.0</td>\n",
       "    </tr>\n",
       "    <tr>\n",
       "      <th>7</th>\n",
       "      <td>Black Hebrew Israelites</td>\n",
       "      <td>0.0</td>\n",
       "    </tr>\n",
       "    <tr>\n",
       "      <th>8</th>\n",
       "      <td>Right-wing extremists</td>\n",
       "      <td>0.0</td>\n",
       "    </tr>\n",
       "    <tr>\n",
       "      <th>9</th>\n",
       "      <td>Animal Liberation Front (ALF)</td>\n",
       "      <td>0.0</td>\n",
       "    </tr>\n",
       "    <tr>\n",
       "      <th>10</th>\n",
       "      <td>Anti-Arab extremists</td>\n",
       "      <td>0.0</td>\n",
       "    </tr>\n",
       "    <tr>\n",
       "      <th>11</th>\n",
       "      <td>Anti-Sikh extremists</td>\n",
       "      <td>0.0</td>\n",
       "    </tr>\n",
       "    <tr>\n",
       "      <th>12</th>\n",
       "      <td>United Aryan Empire</td>\n",
       "      <td>0.0</td>\n",
       "    </tr>\n",
       "    <tr>\n",
       "      <th>13</th>\n",
       "      <td>Anarchists</td>\n",
       "      <td>0.0</td>\n",
       "    </tr>\n",
       "    <tr>\n",
       "      <th>14</th>\n",
       "      <td>Court Reform extremists</td>\n",
       "      <td>0.0</td>\n",
       "    </tr>\n",
       "    <tr>\n",
       "      <th>15</th>\n",
       "      <td>Neo-Nazi extremists</td>\n",
       "      <td>1.0</td>\n",
       "    </tr>\n",
       "    <tr>\n",
       "      <th>16</th>\n",
       "      <td>Anti-Republican extremists</td>\n",
       "      <td>1.0</td>\n",
       "    </tr>\n",
       "    <tr>\n",
       "      <th>17</th>\n",
       "      <td>Sovereign Citizen</td>\n",
       "      <td>1.0</td>\n",
       "    </tr>\n",
       "    <tr>\n",
       "      <th>18</th>\n",
       "      <td>Anti-Abortion extremists</td>\n",
       "      <td>3.0</td>\n",
       "    </tr>\n",
       "    <tr>\n",
       "      <th>19</th>\n",
       "      <td>Anti-Muslim extremists</td>\n",
       "      <td>5.0</td>\n",
       "    </tr>\n",
       "    <tr>\n",
       "      <th>20</th>\n",
       "      <td>Unknown</td>\n",
       "      <td>6.0</td>\n",
       "    </tr>\n",
       "    <tr>\n",
       "      <th>21</th>\n",
       "      <td>Muslim extremists</td>\n",
       "      <td>9.0</td>\n",
       "    </tr>\n",
       "    <tr>\n",
       "      <th>22</th>\n",
       "      <td>Anti-White extremists</td>\n",
       "      <td>10.0</td>\n",
       "    </tr>\n",
       "    <tr>\n",
       "      <th>23</th>\n",
       "      <td>Anti-Police extremists</td>\n",
       "      <td>11.0</td>\n",
       "    </tr>\n",
       "    <tr>\n",
       "      <th>24</th>\n",
       "      <td>Incel extremists</td>\n",
       "      <td>17.0</td>\n",
       "    </tr>\n",
       "    <tr>\n",
       "      <th>25</th>\n",
       "      <td>White extremists</td>\n",
       "      <td>19.0</td>\n",
       "    </tr>\n",
       "    <tr>\n",
       "      <th>26</th>\n",
       "      <td>Anti-Government extremists</td>\n",
       "      <td>69.0</td>\n",
       "    </tr>\n",
       "    <tr>\n",
       "      <th>27</th>\n",
       "      <td>Jihadi-inspired extremists</td>\n",
       "      <td>91.0</td>\n",
       "    </tr>\n",
       "  </tbody>\n",
       "</table>\n",
       "</div>"
      ],
      "text/plain": [
       "                                                gname  total_kill\n",
       "0   White Rabbit Three Percent Illinois Patriot Fr...         0.0\n",
       "1                                   Environmentalists         0.0\n",
       "2                                        Ku Klux Klan         0.0\n",
       "3                                Anti-LGBT extremists         0.0\n",
       "4                               Anti-Trump extremists         0.0\n",
       "5                             Anti-Semitic extremists         0.0\n",
       "6                 Citizens for Constitutional Freedom         0.0\n",
       "7                             Black Hebrew Israelites         0.0\n",
       "8                               Right-wing extremists         0.0\n",
       "9                       Animal Liberation Front (ALF)         0.0\n",
       "10                               Anti-Arab extremists         0.0\n",
       "11                               Anti-Sikh extremists         0.0\n",
       "12                                United Aryan Empire         0.0\n",
       "13                                         Anarchists         0.0\n",
       "14                            Court Reform extremists         0.0\n",
       "15                                Neo-Nazi extremists         1.0\n",
       "16                         Anti-Republican extremists         1.0\n",
       "17                                  Sovereign Citizen         1.0\n",
       "18                           Anti-Abortion extremists         3.0\n",
       "19                             Anti-Muslim extremists         5.0\n",
       "20                                            Unknown         6.0\n",
       "21                                  Muslim extremists         9.0\n",
       "22                              Anti-White extremists        10.0\n",
       "23                             Anti-Police extremists        11.0\n",
       "24                                   Incel extremists        17.0\n",
       "25                                   White extremists        19.0\n",
       "26                         Anti-Government extremists        69.0\n",
       "27                         Jihadi-inspired extremists        91.0"
      ]
     },
     "execution_count": 276,
     "metadata": {},
     "output_type": "execute_result"
    }
   ],
   "source": [
    "# groups and total kill by them\n",
    "df = pd.DataFrame({'gname': groups, 'total_kill': kills})\n",
    "df"
   ]
  },
  {
   "cell_type": "code",
   "execution_count": null,
   "metadata": {},
   "outputs": [],
   "source": []
  }
 ],
 "metadata": {
  "kernelspec": {
   "display_name": "Python 3",
   "language": "python",
   "name": "python3"
  },
  "language_info": {
   "codemirror_mode": {
    "name": "ipython",
    "version": 3
   },
   "file_extension": ".py",
   "mimetype": "text/x-python",
   "name": "python",
   "nbconvert_exporter": "python",
   "pygments_lexer": "ipython3",
   "version": "3.6.7"
  }
 },
 "nbformat": 4,
 "nbformat_minor": 2
}
