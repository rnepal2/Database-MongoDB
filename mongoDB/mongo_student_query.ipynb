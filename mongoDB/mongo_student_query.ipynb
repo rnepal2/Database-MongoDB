{
 "cells": [
  {
   "cell_type": "markdown",
   "metadata": {},
   "source": [
    "### Playing with the student database in mongoDB\n",
    "\n",
    "Here, let us try to understand the student database created in the mongoDB using the mongo queries."
   ]
  },
  {
   "cell_type": "code",
   "execution_count": 6,
   "metadata": {},
   "outputs": [],
   "source": [
    "import math\n",
    "import numpy as np\n",
    "import pandas as pd\n",
    "from pprint import pprint\n",
    "import pymongo\n",
    "\n",
    "import matplotlib.pyplot as plt\n",
    "%matplotlib inline"
   ]
  },
  {
   "cell_type": "code",
   "execution_count": 7,
   "metadata": {},
   "outputs": [],
   "source": [
    "# Mongo client\n",
    "client = pymongo.MongoClient(\"mongodb://localhost:27017\")"
   ]
  },
  {
   "cell_type": "code",
   "execution_count": 13,
   "metadata": {},
   "outputs": [],
   "source": [
    "# connecting to the \"Student\" database \n",
    "db = client[\"student\"]"
   ]
  },
  {
   "cell_type": "code",
   "execution_count": 14,
   "metadata": {},
   "outputs": [
    {
     "data": {
      "text/plain": [
       "['MovieLens', 'admin', 'config', 'local', 'practice', 'student', 'terrorism']"
      ]
     },
     "execution_count": 14,
     "metadata": {},
     "output_type": "execute_result"
    }
   ],
   "source": [
    "client.list_database_names()"
   ]
  },
  {
   "cell_type": "markdown",
   "metadata": {},
   "source": [
    "### mongo queries "
   ]
  },
  {
   "cell_type": "code",
   "execution_count": 18,
   "metadata": {},
   "outputs": [
    {
     "data": {
      "text/plain": [
       "['student_mat', 'student_por']"
      ]
     },
     "execution_count": 18,
     "metadata": {},
     "output_type": "execute_result"
    }
   ],
   "source": [
    "# we have two collections in the student database\n",
    "db.list_collection_names()"
   ]
  },
  {
   "cell_type": "code",
   "execution_count": 19,
   "metadata": {},
   "outputs": [
    {
     "data": {
      "text/plain": [
       "649"
      ]
     },
     "execution_count": 19,
     "metadata": {},
     "output_type": "execute_result"
    }
   ],
   "source": [
    "# total number of records in the collection\n",
    "db.student_por.count_documents({})"
   ]
  },
  {
   "cell_type": "code",
   "execution_count": 20,
   "metadata": {},
   "outputs": [
    {
     "data": {
      "text/plain": [
       "395"
      ]
     },
     "execution_count": 20,
     "metadata": {},
     "output_type": "execute_result"
    }
   ],
   "source": [
    "# total number of records in the collection\n",
    "db.student_mat.count_documents({})"
   ]
  },
  {
   "cell_type": "code",
   "execution_count": 21,
   "metadata": {},
   "outputs": [],
   "source": [
    "def find_students():\n",
    "    # find(filter, project)\n",
    "    cursor = db.student_por.find({\"absences\" : {\"$gte\" : 10}, \"G3\": {\"$gte\": 15}}, \n",
    "                                 {\"_id\" : 0, \"school\" : 1, \"sex\" : 1, \"G3\" : 1})\n",
    "    # printing the selections\n",
    "    pprint([entry for entry in cursor])"
   ]
  },
  {
   "cell_type": "code",
   "execution_count": 22,
   "metadata": {},
   "outputs": [
    {
     "name": "stdout",
     "output_type": "stream",
     "text": [
      "[{'G3': 18, 'school': 'GP', 'sex': 'M'},\n",
      " {'G3': 16, 'school': 'GP', 'sex': 'F'},\n",
      " {'G3': 16, 'school': 'GP', 'sex': 'F'},\n",
      " {'G3': 17, 'school': 'GP', 'sex': 'F'},\n",
      " {'G3': 15, 'school': 'GP', 'sex': 'F'},\n",
      " {'G3': 18, 'school': 'GP', 'sex': 'M'},\n",
      " {'G3': 17, 'school': 'GP', 'sex': 'F'}]\n"
     ]
    }
   ],
   "source": [
    "find_students()"
   ]
  },
  {
   "cell_type": "code",
   "execution_count": 23,
   "metadata": {},
   "outputs": [
    {
     "data": {
      "text/plain": [
       "68"
      ]
     },
     "execution_count": 23,
     "metadata": {},
     "output_type": "execute_result"
    }
   ],
   "source": [
    "cursor = db.student_por.find({\"Pstatus\": 'A', \"G3\": {\"$gte\": 10}})\n",
    "# number of cases\n",
    "len([record for record in cursor])"
   ]
  },
  {
   "cell_type": "code",
   "execution_count": 25,
   "metadata": {},
   "outputs": [],
   "source": [
    "# Parents are living together or apart\n",
    "# its effect on the student's performance\n",
    "def plot_effect_bar(feature):\n",
    "    levels = db.student_por.distinct(feature)\n",
    "    counts = []\n",
    "    for case in levels:\n",
    "        cursor = db.student_por.find({feature: case, \"G3\": {\"$gte\": 15}})\n",
    "        counts.append(len([record for record in cursor]))\n",
    "    plt.bar(levels, counts);\n",
    "    plt.xlabel(feature);\n",
    "    plt.title('%s based performance' % feature);"
   ]
  },
  {
   "cell_type": "code",
   "execution_count": 26,
   "metadata": {},
   "outputs": [
    {
     "data": {
      "image/png": "[encoded data removed]",
      "text/plain": [
       "<Figure size 432x288 with 1 Axes>"
      ]
     },
     "metadata": {
      "needs_background": "light"
     },
     "output_type": "display_data"
    }
   ],
   "source": [
    "plot_effect_bar(\"Pstatus\")"
   ]
  },
  {
   "cell_type": "code",
   "execution_count": 27,
   "metadata": {},
   "outputs": [
    {
     "data": {
      "image/png": "[encoded data removed]",
      "text/plain": [
       "<Figure size 432x288 with 1 Axes>"
      ]
     },
     "metadata": {
      "needs_background": "light"
     },
     "output_type": "display_data"
    }
   ],
   "source": [
    "# based on the education level of Mother\n",
    "plot_effect_bar(\"Medu\")"
   ]
  },
  {
   "cell_type": "code",
   "execution_count": 28,
   "metadata": {},
   "outputs": [
    {
     "data": {
      "image/png": "[encoded data removed]",
      "text/plain": [
       "<Figure size 432x288 with 1 Axes>"
      ]
     },
     "metadata": {
      "needs_background": "light"
     },
     "output_type": "display_data"
    }
   ],
   "source": [
    "# based on the Education level of Father\n",
    "plot_effect_bar(\"Fedu\")"
   ]
  },
  {
   "cell_type": "markdown",
   "metadata": {},
   "source": [
    "Seems there is a clear relation on the peformance of the students based on the education level of mother more than that of father."
   ]
  },
  {
   "cell_type": "code",
   "execution_count": 29,
   "metadata": {},
   "outputs": [
    {
     "data": {
      "image/png": "[encoded data removed]",
      "text/plain": [
       "<Figure size 432x288 with 1 Axes>"
      ]
     },
     "metadata": {
      "needs_background": "light"
     },
     "output_type": "display_data"
    }
   ],
   "source": [
    "plot_effect_bar(\"health\")"
   ]
  },
  {
   "cell_type": "code",
   "execution_count": 30,
   "metadata": {},
   "outputs": [
    {
     "data": {
      "image/png": "[encoded data removed]",
      "text/plain": [
       "<Figure size 432x288 with 1 Axes>"
      ]
     },
     "metadata": {
      "needs_background": "light"
     },
     "output_type": "display_data"
    }
   ],
   "source": [
    "plot_effect_bar(\"studytime\")"
   ]
  },
  {
   "cell_type": "markdown",
   "metadata": {},
   "source": [
    "#### aggregate method"
   ]
  },
  {
   "cell_type": "code",
   "execution_count": 40,
   "metadata": {},
   "outputs": [],
   "source": [
    "# returns students info who were absent for many days \n",
    "# but still performed good\n",
    "def genius_students():\n",
    "    genius = db.student_por.aggregate(\n",
    "           [{ \"$match\": {\"absences\": {\"$gte\" : 10}, \"G3\": {\"$gte\": 15}}}, \n",
    "            { \"$project\" : { \"From\" : {\"$concat\" : [\"$school\", \"-\", \"$sex\"]},\n",
    "                             \"_id\": 0,\n",
    "                              \"G1\" : \"$G1\", \"G2\" : \"$G2\", \"G3\" : \"$G3\",\n",
    "                              \"totalScore\" : {\"$add\" : [\"$G1\", \"$G2\", \"$G3\"]},\n",
    "                              \"percentage\" : {\"$divide\" : [{\"$add\" : [\"$G1\", \"$G2\", \"$G3\"]}, 0.6]}\n",
    "                             }},\n",
    "            { \"$sort\" : {\"totalScore\" : 1}},\n",
    "           ]\n",
    "        )\n",
    "    students = [stu for stu in genius]\n",
    "    print('Number of cases: ', len(students))\n",
    "    print(\"\\n===printing some===\")\n",
    "    for i in range(len(students)):\n",
    "        pprint(students[i])\n",
    "        if i > 2: break"
   ]
  },
  {
   "cell_type": "code",
   "execution_count": 34,
   "metadata": {},
   "outputs": [
    {
     "name": "stdout",
     "output_type": "stream",
     "text": [
      "Number of cases:  7\n",
      "\n",
      "===printing some===\n",
      "{'From': 'GP-F',\n",
      " 'G1': 12,\n",
      " 'G2': 15,\n",
      " 'G3': 15,\n",
      " 'percentage': 70.0,\n",
      " 'totalScore': 42}\n",
      "{'From': 'GP-F',\n",
      " 'G1': 14,\n",
      " 'G2': 15,\n",
      " 'G3': 16,\n",
      " 'percentage': 75.0,\n",
      " 'totalScore': 45}\n",
      "{'From': 'GP-F',\n",
      " 'G1': 15,\n",
      " 'G2': 14,\n",
      " 'G3': 17,\n",
      " 'percentage': 76.66666666666667,\n",
      " 'totalScore': 46}\n",
      "{'From': 'GP-F',\n",
      " 'G1': 16,\n",
      " 'G2': 16,\n",
      " 'G3': 16,\n",
      " 'percentage': 80.0,\n",
      " 'totalScore': 48}\n"
     ]
    }
   ],
   "source": [
    "genius_students()"
   ]
  },
  {
   "cell_type": "code",
   "execution_count": 124,
   "metadata": {},
   "outputs": [],
   "source": [
    "# students who travelled, did romance, \n",
    "# spent freetime and still performed well\n",
    "def with_fun(n):\n",
    "    cursor = db.student_por.aggregate([\n",
    "                { \"$match\" : {\"traveltime\" : {\"$gt\" : 0}, \"romantic\" : \"yes\", \"freetime\" : {\"$gt\" : 0}, \"G3\" : {\"$gt\" : 15}}},\n",
    "                { \"$project\" : {\"_id\": 0, \"traveltime\" : \"$traveltime\", \"romantic\" : \"$romantic\", \"freetime\" : \"$freetime\", \n",
    "                                \"G3\" : \"$G3\"}},\n",
    "             ])\n",
    "    # printing n of those students info\n",
    "    i = 0\n",
    "    for student in cursor:\n",
    "        pprint(student)\n",
    "        i += 1\n",
    "        if i == n: break"
   ]
  },
  {
   "cell_type": "code",
   "execution_count": 125,
   "metadata": {},
   "outputs": [
    {
     "name": "stdout",
     "output_type": "stream",
     "text": [
      "{'G3': 16, 'freetime': 5, 'romantic': 'yes', 'traveltime': 4}\n",
      "{'G3': 16, 'freetime': 4, 'romantic': 'yes', 'traveltime': 1}\n",
      "{'G3': 18, 'freetime': 2, 'romantic': 'yes', 'traveltime': 1}\n",
      "{'G3': 17, 'freetime': 4, 'romantic': 'yes', 'traveltime': 1}\n",
      "{'G3': 18, 'freetime': 3, 'romantic': 'yes', 'traveltime': 2}\n"
     ]
    }
   ],
   "source": [
    "with_fun(5)"
   ]
  },
  {
   "cell_type": "code",
   "execution_count": null,
   "metadata": {},
   "outputs": [],
   "source": [
    "\"$project\": {\"_id\": \"total_score\", \"count\": \"count\"}"
   ]
  },
  {
   "cell_type": "code",
   "execution_count": 121,
   "metadata": {},
   "outputs": [],
   "source": [
    "# aggregate with group\n",
    "def totalscores_distribution(plot=False, show=False, limit=None):\n",
    "    # how many to show?\n",
    "    if not limit:\n",
    "        limit = 5\n",
    "    cursor = db.student_por.aggregate([\n",
    "            # total_score = G1 + G2 + G3\n",
    "            {\n",
    "                \"$group\": {\n",
    "                    \"_id\": {\"$sum\": [\"$G1\",  \"$G2\", \"$G3\"]},\n",
    "                    \"count\": {\"$sum\": 1}\n",
    "                        }\n",
    "            }, {\n",
    "                \"$project\": {\"_id\": 0, \"count\": \"$count\", \"total_score\": \"$_id\",}\n",
    "            }, {\n",
    "                \"$sort\": {\"total_score\": -1}  # sorting by total_score\n",
    "            }\n",
    "        ])\n",
    "    \n",
    "    if plot:\n",
    "        scores = []\n",
    "        counts = []\n",
    "        for item in cursor:\n",
    "            scores.append(item['total_score'])\n",
    "            counts.append(item['count'])\n",
    "        plt.bar(scores, counts)\n",
    "        plt.xlabel('total score')\n",
    "        plt.ylabel('count');\n",
    "        plt.title('total score distribution');\n",
    "        \n",
    "    # rather print some to see the sorted total scores\n",
    "    if show:\n",
    "        i = 0\n",
    "        for record in cursor:\n",
    "            pprint(record)\n",
    "            i += 1\n",
    "            if i > limit: break"
   ]
  },
  {
   "cell_type": "code",
   "execution_count": 123,
   "metadata": {},
   "outputs": [
    {
     "name": "stdout",
     "output_type": "stream",
     "text": [
      "{'count': 1, 'total_score': 56}\n",
      "{'count': 6, 'total_score': 54}\n",
      "{'count': 5, 'total_score': 53}\n",
      "{'count': 7, 'total_score': 52}\n",
      "{'count': 7, 'total_score': 51}\n",
      "{'count': 2, 'total_score': 50}\n",
      "{'count': 7, 'total_score': 49}\n",
      "{'count': 12, 'total_score': 48}\n",
      "{'count': 12, 'total_score': 47}\n",
      "{'count': 13, 'total_score': 46}\n",
      "{'count': 14, 'total_score': 45}\n"
     ]
    }
   ],
   "source": [
    "# few (limit=10) top scores and number of students\n",
    "totalscores_distribution(plot=False, show=True, limit=10)"
   ]
  },
  {
   "cell_type": "code",
   "execution_count": 120,
   "metadata": {},
   "outputs": [
    {
     "data": {
      "image/png": "[encoded data removed]",
      "text/plain": [
       "<Figure size 432x288 with 1 Axes>"
      ]
     },
     "metadata": {
      "needs_background": "light"
     },
     "output_type": "display_data"
    }
   ],
   "source": [
    "totalscores_distribution(plot=True, show=False, limit=10)"
   ]
  },
  {
   "cell_type": "code",
   "execution_count": null,
   "metadata": {},
   "outputs": [],
   "source": []
  }
 ],
 "metadata": {
  "kernelspec": {
   "display_name": "Python 3",
   "language": "python",
   "name": "python3"
  },
  "language_info": {
   "codemirror_mode": {
    "name": "ipython",
    "version": 3
   },
   "file_extension": ".py",
   "mimetype": "text/x-python",
   "name": "python",
   "nbconvert_exporter": "python",
   "pygments_lexer": "ipython3",
   "version": "3.6.7"
  }
 },
 "nbformat": 4,
 "nbformat_minor": 2
}
